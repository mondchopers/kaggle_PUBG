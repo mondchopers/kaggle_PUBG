{
  "nbformat": 4,
  "nbformat_minor": 0,
  "metadata": {
    "colab": {
      "name": "Exploration.ipynb",
      "version": "0.3.2",
      "provenance": [],
      "include_colab_link": true
    },
    "kernelspec": {
      "name": "python3",
      "display_name": "Python 3"
    },
    "accelerator": "GPU"
  },
  "cells": [
    {
      "cell_type": "markdown",
      "metadata": {
        "id": "view-in-github",
        "colab_type": "text"
      },
      "source": [
        "[View in Colaboratory](https://colab.research.google.com/github/mondchopers/kaggle_PUBG/blob/master/Exploration.ipynb)"
      ]
    },
    {
      "metadata": {
        "id": "JmV024t5q4b3",
        "colab_type": "text"
      },
      "cell_type": "markdown",
      "source": [
        "# PUBG Competition Data Exploration"
      ]
    },
    {
      "metadata": {
        "id": "QKAugjTqrKfw",
        "colab_type": "text"
      },
      "cell_type": "markdown",
      "source": [
        "## Loading Kaggle API and Download data to Colab Storage"
      ]
    },
    {
      "metadata": {
        "id": "NeFCxw8AS_yF",
        "colab_type": "code",
        "colab": {
          "base_uri": "https://localhost:8080/",
          "height": 442
        },
        "outputId": "a721349b-5d8a-4b2d-8507-e5c5873263b0"
      },
      "cell_type": "code",
      "source": [
        "# Install kaggle API, go to my Google Drive and get API key so that I can\n",
        "# access dataset\n",
        "# https://medium.com/@move37timm/d18645f93648\n",
        "\n",
        "!pip install kaggle\n",
        "from googleapiclient.discovery import build\n",
        "import io, os\n",
        "from googleapiclient.http import MediaIoBaseDownload\n",
        "from google.colab import auth\n",
        "auth.authenticate_user()\n",
        "drive_service = build('drive', 'v3')\n",
        "results = drive_service.files().list(\n",
        "        q=\"name = 'kaggle.json'\", fields=\"files(id)\").execute()\n",
        "kaggle_api_key = results.get('files', [])\n",
        "filename = \"/content/.kaggle/kaggle.json\"\n",
        "os.makedirs(os.path.dirname(filename), exist_ok=True)\n",
        "request = drive_service.files().get_media(fileId=kaggle_api_key[0]['id'])\n",
        "fh = io.FileIO(filename, 'wb')\n",
        "downloader = MediaIoBaseDownload(fh, request)\n",
        "done = False\n",
        "while done is False:\n",
        "    status, done = downloader.next_chunk()\n",
        "    print(\"Download %d%%.\" % int(status.progress() * 100))\n",
        "os.chmod(filename, 600)\n",
        "\n",
        "# Optional piece of code: sometime just need to put the key in the right place\n",
        "!mkdir ~/.kaggle\n",
        "!cp /content/.kaggle/kaggle.json ~/.kaggle/kaggle.json"
      ],
      "execution_count": 1,
      "outputs": [
        {
          "output_type": "stream",
          "text": [
            "Collecting kaggle\n",
            "\u001b[?25l  Downloading https://files.pythonhosted.org/packages/c6/78/832b9a9ec6b3baf8ec566e1f0a695f2fd08d2c94a6797257a106304bfc3c/kaggle-1.4.7.1.tar.gz (52kB)\n",
            "\u001b[K    100% |████████████████████████████████| 61kB 2.8MB/s \n",
            "\u001b[?25hRequirement already satisfied: urllib3<1.23.0,>=1.15 in /usr/local/lib/python3.6/dist-packages (from kaggle) (1.22)\n",
            "Requirement already satisfied: six>=1.10 in /usr/local/lib/python3.6/dist-packages (from kaggle) (1.11.0)\n",
            "Requirement already satisfied: certifi in /usr/local/lib/python3.6/dist-packages (from kaggle) (2018.10.15)\n",
            "Requirement already satisfied: python-dateutil in /usr/local/lib/python3.6/dist-packages (from kaggle) (2.5.3)\n",
            "Requirement already satisfied: requests in /usr/local/lib/python3.6/dist-packages (from kaggle) (2.18.4)\n",
            "Requirement already satisfied: tqdm in /usr/local/lib/python3.6/dist-packages (from kaggle) (4.27.0)\n",
            "Collecting python-slugify (from kaggle)\n",
            "  Downloading https://files.pythonhosted.org/packages/00/ad/c778a6df614b6217c30fe80045b365bfa08b5dd3cb02e8b37a6d25126781/python-slugify-1.2.6.tar.gz\n",
            "Requirement already satisfied: chardet<3.1.0,>=3.0.2 in /usr/local/lib/python3.6/dist-packages (from requests->kaggle) (3.0.4)\n",
            "Requirement already satisfied: idna<2.7,>=2.5 in /usr/local/lib/python3.6/dist-packages (from requests->kaggle) (2.6)\n",
            "Collecting Unidecode>=0.04.16 (from python-slugify->kaggle)\n",
            "\u001b[?25l  Downloading https://files.pythonhosted.org/packages/59/ef/67085e30e8bbcdd76e2f0a4ad8151c13a2c5bce77c85f8cad6e1f16fb141/Unidecode-1.0.22-py2.py3-none-any.whl (235kB)\n",
            "\u001b[K    100% |████████████████████████████████| 235kB 5.8MB/s \n",
            "\u001b[?25hBuilding wheels for collected packages: kaggle, python-slugify\n",
            "  Running setup.py bdist_wheel for kaggle ... \u001b[?25l-\b \b\\\b \bdone\n",
            "\u001b[?25h  Stored in directory: /root/.cache/pip/wheels/44/2c/df/22a6eeb780c36c28190faef6252b739fdc47145fd87a6642d4\n",
            "  Running setup.py bdist_wheel for python-slugify ... \u001b[?25l-\b \bdone\n",
            "\u001b[?25h  Stored in directory: /root/.cache/pip/wheels/e3/65/da/2045deea3098ed7471eca0e2460cfbd3fdfe8c1d6fa6fcac92\n",
            "Successfully built kaggle python-slugify\n",
            "Installing collected packages: Unidecode, python-slugify, kaggle\n",
            "Successfully installed Unidecode-1.0.22 kaggle-1.4.7.1 python-slugify-1.2.6\n",
            "Download 100%.\n"
          ],
          "name": "stdout"
        }
      ]
    },
    {
      "metadata": {
        "id": "Xl1bLSYxTH4N",
        "colab_type": "code",
        "colab": {
          "base_uri": "https://localhost:8080/",
          "height": 697
        },
        "outputId": "48b04f10-5d07-4b9e-91f7-17f6a90b1f1e"
      },
      "cell_type": "code",
      "source": [
        "# List current active competitions\n",
        "!kaggle competitions list\n",
        "\n",
        "# Download PUBG data\n",
        "!kaggle competitions download -c pubg-finish-placement-prediction -p /content/kaggle\n",
        "\n",
        "# List down all files from PUBG competition\n",
        "import os\n",
        "os.chdir('/content/kaggle')\n",
        "!ls\n",
        "\n",
        "# Unzip all files\n",
        "for file in os.listdir():\n",
        "  !unzip {file}\n",
        "!ls"
      ],
      "execution_count": 2,
      "outputs": [
        {
          "output_type": "stream",
          "text": [
            "ref                                            deadline             category            reward  teamCount  userHasEntered  \n",
            "---------------------------------------------  -------------------  ---------------  ---------  ---------  --------------  \n",
            "digit-recognizer                               2030-01-01 00:00:00  Getting Started  Knowledge       2651           False  \n",
            "titanic                                        2030-01-01 00:00:00  Getting Started  Knowledge       9861           False  \n",
            "house-prices-advanced-regression-techniques    2030-01-01 00:00:00  Getting Started  Knowledge       4199            True  \n",
            "imagenet-object-localization-challenge         2029-12-31 07:00:00  Research         Knowledge         26           False  \n",
            "pubg-finish-placement-prediction               2019-01-30 23:59:00  Playground            Swag         52            True  \n",
            "human-protein-atlas-image-classification       2019-01-10 23:59:00  Featured           $37,000        345            True  \n",
            "two-sigma-financial-news                       2019-01-08 23:59:00  Featured          $100,000        904           False  \n",
            "competitive-data-science-predict-future-sales  2019-01-01 23:59:00  Playground           Kudos       1611            True  \n",
            "PLAsTiCC-2018                                  2018-12-17 23:59:00  Featured           $25,000        281            True  \n",
            "quickdraw-doodle-recognition                   2018-12-04 23:59:00  Featured           $25,000        312           False  \n",
            "ga-customer-revenue-prediction                 2018-11-30 23:59:00  Featured           $45,000       2680           False  \n",
            "airbus-ship-detection                          2018-11-14 23:59:00  Featured           $60,000        266           False  \n",
            "inclusive-images-challenge                     2018-11-05 23:59:00  Research           $25,000        373           False  \n",
            "rsna-pneumonia-detection-challenge             2018-10-24 23:59:00  Featured           $30,000       1339           False  \n",
            "tgs-salt-identification-challenge              2018-10-19 23:59:00  Featured          $100,000       3291           False  \n",
            "new-york-city-taxi-fare-prediction             2018-09-25 23:59:00  Playground       Knowledge       1488           False  \n",
            "forest-cover-type-kernels-only                 2018-09-24 23:59:00  Playground       Knowledge        359           False  \n",
            "demand-forecasting-kernels-only                2018-09-24 23:59:00  Playground       Knowledge        462           False  \n",
            "whats-cooking-kernels-only                     2018-09-24 23:59:00  Playground       Knowledge        523           False  \n",
            "flavours-of-physics-kernels-only               2018-09-24 23:59:00  Playground       Knowledge         64           False  \n",
            "Downloading sample_submission_V2.csv.zip to /content/kaggle\n",
            " 30% 5.00M/16.9M [00:00<00:00, 39.5MB/s]\n",
            "100% 16.9M/16.9M [00:00<00:00, 96.8MB/s]\n",
            "Downloading test_V2.csv.zip to /content/kaggle\n",
            " 74% 73.0M/98.3M [00:00<00:00, 76.1MB/s]\n",
            "100% 98.3M/98.3M [00:00<00:00, 126MB/s] \n",
            "Downloading train_V2.csv.zip to /content/kaggle\n",
            " 97% 231M/239M [00:02<00:00, 96.3MB/s]\n",
            "100% 239M/239M [00:05<00:00, 46.9MB/s]\n",
            "sample_submission_V2.csv.zip  test_V2.csv.zip  train_V2.csv.zip\n",
            "Archive:  sample_submission_V2.csv.zip\n",
            "  inflating: sample_submission_V2.csv  \n",
            "Archive:  train_V2.csv.zip\n",
            "  inflating: train_V2.csv            \n",
            "Archive:  test_V2.csv.zip\n",
            "  inflating: test_V2.csv             \n",
            "sample_submission_V2.csv      test_V2.csv      train_V2.csv\n",
            "sample_submission_V2.csv.zip  test_V2.csv.zip  train_V2.csv.zip\n"
          ],
          "name": "stdout"
        }
      ]
    },
    {
      "metadata": {
        "id": "RZDKUk1zuveJ",
        "colab_type": "code",
        "colab": {
          "base_uri": "https://localhost:8080/",
          "height": 51
        },
        "outputId": "85ab2185-5d22-4584-dd89-a6a1a24cbd21"
      },
      "cell_type": "code",
      "source": [
        "import pandas as pd\n",
        "import numpy as np\n",
        "import xgboost as xgb\n",
        "import tensorflow as tf\n",
        "from tensorflow import keras\n",
        "config = tf.ConfigProto()\n",
        "config.gpu_options.allow_growth = True\n",
        "import gc\n",
        "\n",
        "print(tf.test.gpu_device_name())\n",
        "print(tf.__version__)"
      ],
      "execution_count": 3,
      "outputs": [
        {
          "output_type": "stream",
          "text": [
            "/device:GPU:0\n",
            "1.12.0-rc1\n"
          ],
          "name": "stdout"
        }
      ]
    },
    {
      "metadata": {
        "id": "Tr8k-l8w6T4c",
        "colab_type": "text"
      },
      "cell_type": "markdown",
      "source": [
        "## Helper Functions"
      ]
    },
    {
      "metadata": {
        "id": "y3RlB_kU6Q_j",
        "colab_type": "code",
        "colab": {}
      },
      "cell_type": "code",
      "source": [
        "def cleanup(obj):\n",
        "  del(obj)\n",
        "  gc.collect()"
      ],
      "execution_count": 0,
      "outputs": []
    },
    {
      "metadata": {
        "id": "p4H-EkbysSW5",
        "colab_type": "text"
      },
      "cell_type": "markdown",
      "source": [
        "## Exploration"
      ]
    },
    {
      "metadata": {
        "id": "rYZmOKl6WQb5",
        "colab_type": "code",
        "colab": {
          "base_uri": "https://localhost:8080/",
          "height": 34
        },
        "outputId": "8c317634-f336-4316-f84b-8fda070816d4"
      },
      "cell_type": "code",
      "source": [
        "dtypes = {\n",
        "        'Id'                : 'str',\n",
        "        'groupId'           : 'str',\n",
        "        'matchId'           : 'str',\n",
        "        'assists'           : 'uint8',\n",
        "        'boosts'            : 'uint8',\n",
        "        'damageDealt'       : 'float32',\n",
        "        'DBNOs'             : 'uint8',\n",
        "        'headshotKills'     : 'uint8', \n",
        "        'heals'             : 'uint8',    \n",
        "        'killPlace'         : 'uint8',    \n",
        "        'killPoints'        : 'uint8',    \n",
        "        'kills'             : 'uint8',    \n",
        "        'killStreaks'       : 'uint8',    \n",
        "        'longestKill'       : 'float32',    \n",
        "        'maxPlace'          : 'uint8',\n",
        "        'matchDuration'     : 'uint32',\n",
        "        'matchType'         : 'str',\n",
        "        'numGroups'         : 'uint8',\n",
        "        'rankPoints'        : 'int64',\n",
        "        'revives'           : 'uint8',    \n",
        "        'rideDistance'      : 'float32',    \n",
        "        'roadKills'         : 'uint8',    \n",
        "        'swimDistance'      : 'float32',    \n",
        "        'teamKills'         : 'uint8',    \n",
        "        'vehicleDestroys'   : 'uint8',    \n",
        "        'walkDistance'      : 'float32',    \n",
        "        'weaponsAcquired'   : 'uint8',    \n",
        "        'winPoints'         : 'uint8', \n",
        "        'winPlacePerc'      : 'float32' \n",
        "}\n",
        "\n",
        "df_train = pd.read_csv('train_V2.csv',dtype=dtypes)\n",
        "print('Training rows: ' + str(len(df_train)))"
      ],
      "execution_count": 12,
      "outputs": [
        {
          "output_type": "stream",
          "text": [
            "Training rows: 4446966\n"
          ],
          "name": "stdout"
        }
      ]
    },
    {
      "metadata": {
        "id": "8x56XODiXjeP",
        "colab_type": "code",
        "colab": {
          "base_uri": "https://localhost:8080/",
          "height": 901
        },
        "outputId": "0f6c62e5-8731-4cf9-fcb5-d2613c155bd4"
      },
      "cell_type": "code",
      "source": [
        "# Read training data, print out some information from there\n",
        "trainDf = pd.read_csv('train_V2.csv')\n",
        "print(trainDf.head(3))\n",
        "print(len(trainDf))\n",
        "print(trainDf.dtypes)"
      ],
      "execution_count": 10,
      "outputs": [
        {
          "output_type": "stream",
          "text": [
            "               Id         groupId         matchId  assists  boosts  \\\n",
            "0  7f96b2f878858a  4d4b580de459be  a10357fd1a4a91        0       0   \n",
            "1  eef90569b9d03c  684d5656442f9e  aeb375fc57110c        0       0   \n",
            "2  1eaf90ac73de72  6a4a42c3245a74  110163d8bb94ae        1       0   \n",
            "\n",
            "   damageDealt  DBNOs  headshotKills  heals  killPlace      ...       revives  \\\n",
            "0         0.00      0              0      0         60      ...             0   \n",
            "1        91.47      0              0      0         57      ...             0   \n",
            "2        68.00      0              0      0         47      ...             0   \n",
            "\n",
            "   rideDistance  roadKills  swimDistance  teamKills vehicleDestroys  \\\n",
            "0        0.0000          0          0.00          0               0   \n",
            "1        0.0045          0         11.04          0               0   \n",
            "2        0.0000          0          0.00          0               0   \n",
            "\n",
            "   walkDistance  weaponsAcquired  winPoints  winPlacePerc  \n",
            "0         244.8                1       1466        0.4444  \n",
            "1        1434.0                5          0        0.6400  \n",
            "2         161.8                2          0        0.7755  \n",
            "\n",
            "[3 rows x 29 columns]\n",
            "4446966\n",
            "Id                  object\n",
            "groupId             object\n",
            "matchId             object\n",
            "assists              int64\n",
            "boosts               int64\n",
            "damageDealt        float64\n",
            "DBNOs                int64\n",
            "headshotKills        int64\n",
            "heals                int64\n",
            "killPlace            int64\n",
            "killPoints           int64\n",
            "kills                int64\n",
            "killStreaks          int64\n",
            "longestKill        float64\n",
            "matchDuration        int64\n",
            "matchType           object\n",
            "maxPlace             int64\n",
            "numGroups            int64\n",
            "rankPoints           int64\n",
            "revives              int64\n",
            "rideDistance       float64\n",
            "roadKills            int64\n",
            "swimDistance       float64\n",
            "teamKills            int64\n",
            "vehicleDestroys      int64\n",
            "walkDistance       float64\n",
            "weaponsAcquired      int64\n",
            "winPoints            int64\n",
            "winPlacePerc       float64\n",
            "dtype: object\n"
          ],
          "name": "stdout"
        }
      ]
    },
    {
      "metadata": {
        "id": "ulIIPn2RXwbH",
        "colab_type": "code",
        "colab": {}
      },
      "cell_type": "code",
      "source": [
        "# Going through groups and see how many players are inside each group\n",
        "for i in np.unique(trainDf['groupId'].values):\n",
        "  print(i, len(trainDf[trainDf['groupId'] == i]))\n",
        "  if i > 10:\n",
        "    break\n",
        "   \n",
        "print(trainDf[trainDf['groupId'] == 11])"
      ],
      "execution_count": 0,
      "outputs": []
    },
    {
      "metadata": {
        "id": "gtFkpsaF8ZlT",
        "colab_type": "text"
      },
      "cell_type": "markdown",
      "source": [
        "## Using XGB for Regression"
      ]
    },
    {
      "metadata": {
        "id": "zgv5D0lm4gEZ",
        "colab_type": "code",
        "colab": {}
      },
      "cell_type": "code",
      "source": [
        "# Explicitly choose columns for X and Y axis\n",
        "XCol = list(trainDf.columns)\n",
        "XCol.remove('Id')\n",
        "XCol.remove('groupId')\n",
        "XCol.remove('matchId')\n",
        "# Split into train and validation\n",
        "trainLen = int(0.75 * len(trainDf))\n",
        "seed = np.random.permutation(len(trainDf))\n",
        "\n",
        "trainX = trainDf[XCol].iloc[seed[trainLen:]].reset_index(drop=True)\n",
        "trainY = trainDf['winPlacePerc'].iloc[seed[trainLen:]].reset_index(drop=True)\n",
        "validX = trainDf[XCol].iloc[seed[:trainLen]].reset_index(drop=True)\n",
        "validY = trainDf['winPlacePerc'].iloc[seed[:trainLen]].reset_index(drop=True)"
      ],
      "execution_count": 0,
      "outputs": []
    },
    {
      "metadata": {
        "id": "l1ajsDTTFxar",
        "colab_type": "code",
        "colab": {}
      },
      "cell_type": "code",
      "source": [
        "model = xgb.XGBRegressor(n_estimators=50, learning_rate=0.01, subsample=0.75,\n",
        "                           colsample_bytree=1, max_depth=4)\n",
        "model.fit(trainX, trainY)\n",
        "print(model.score(validX, validY))"
      ],
      "execution_count": 0,
      "outputs": []
    },
    {
      "metadata": {
        "id": "GgWgSL5sJxUu",
        "colab_type": "code",
        "colab": {}
      },
      "cell_type": "code",
      "source": [
        "import matplotlib.pyplot as plt\n",
        "%matplotlib inline\n",
        "\n",
        "validZ = model.predict(validX)\n",
        "print(validZ[0], validY.values[0])\n",
        "plt.scatter(validY.values, validZ-validY.values)"
      ],
      "execution_count": 0,
      "outputs": []
    },
    {
      "metadata": {
        "id": "BNJ2wj8lZQNW",
        "colab_type": "text"
      },
      "cell_type": "markdown",
      "source": [
        "## Stephen's Code"
      ]
    },
    {
      "metadata": {
        "id": "Gz7XS2gAZWP0",
        "colab_type": "code",
        "colab": {
          "base_uri": "https://localhost:8080/",
          "height": 119
        },
        "outputId": "12083108-8fb4-4882-aa86-a1f2e74a8c13"
      },
      "cell_type": "code",
      "source": [
        "print(df_train[['matchId', 'groupId', 'winPoints']].groupby(['matchId',]).rank().head())"
      ],
      "execution_count": 15,
      "outputs": [
        {
          "output_type": "stream",
          "text": [
            "   groupId  winPoints\n",
            "0     26.5       36.0\n",
            "1     42.5       46.0\n",
            "2     41.5       49.5\n",
            "3     54.0       46.0\n",
            "4     84.0       49.0\n"
          ],
          "name": "stdout"
        }
      ]
    },
    {
      "metadata": {
        "id": "jRKKsqejalCj",
        "colab_type": "code",
        "colab": {
          "base_uri": "https://localhost:8080/",
          "height": 1601
        },
        "outputId": "1aba5d86-3f6c-4791-d835-c9c23aeba15c"
      },
      "cell_type": "code",
      "source": [
        "# 'Id'                : 'str',\n",
        "# 'groupId'           : 'str',\n",
        "# 'matchId'           : 'str',\n",
        "# 'assists'           : 'uint8',\n",
        "# 'boosts'            : 'uint8',\n",
        "# 'damageDealt'       : 'float32',\n",
        "# 'DBNOs'             : 'uint8',\n",
        "# 'headshotKills'     : 'uint8', \n",
        "# 'heals'             : 'uint8',    \n",
        "# 'killPlace'         : 'uint8',    \n",
        "# 'killPoints'        : 'uint8',    \n",
        "# 'kills'             : 'uint8',    \n",
        "# 'killStreaks'       : 'uint8',    \n",
        "# 'longestKill'       : 'float32',    \n",
        "# 'maxPlace'          : 'uint8',\n",
        "# 'matchDuration'     : 'uint32',\n",
        "# 'matchType'         : 'str',\n",
        "# 'numGroups'         : 'uint8',\n",
        "# 'rankPoints'        : 'int64',\n",
        "# 'revives'           : 'uint8',    \n",
        "# 'rideDistance'      : 'float32',    \n",
        "# 'roadKills'         : 'uint8',    \n",
        "# 'swimDistance'      : 'float32',    \n",
        "# 'teamKills'         : 'uint8',    \n",
        "# 'vehicleDestroys'   : 'uint8',    \n",
        "# 'walkDistance'      : 'float32',    \n",
        "# 'weaponsAcquired'   : 'uint8',    \n",
        "# 'winPoints'         : 'uint8', \n",
        "# 'winPlacePerc'      : 'float32' \n",
        "\n",
        "mean_columns = list(df_train.columns)\n",
        "k = [mean_columns.remove(x) for x in ['Id', 'matchId','groupId', 'longestKill',\n",
        "                                      'matchType', 'maxPlace', 'numGroups', \n",
        "                                      'winPlacePerc']]\n",
        "match_columns = ['matchId','groupId', 'maxPlace', 'numGroups', 'winPlacePerc']\n",
        "target = 'winPlacePerc'\n",
        "\n",
        "df_groups = df_train.groupby(['matchId','groupId'])\n",
        "df_full = df_train[match_columns].drop_duplicates()\n",
        "cleanup(df_train)\n",
        "\n",
        "df_groups_mean = df_groups[mean_columns].mean().fillna(0).add_suffix('_mean').reset_index()\n",
        "df_match_perc = df_groups_mean.groupby(['matchId']).rank(pct=True).add_suffix('_match_perc')\n",
        "df_groups_mean[list(df_match_perc.columns)] = df_match_perc\n",
        "\n",
        "\n",
        "df_groups_std = df_groups[mean_columns].std().fillna(0).add_suffix('_std').reset_index()\n",
        "df_groups_size = df_groups.size().reset_index(name='group_size')\n",
        "print(df_groups_size.head())\n",
        "\n",
        "df_full = df_full.merge(df_groups_mean,how='left',on=['matchId','groupId'])\n",
        "df_full = df_full.merge(df_groups_std,how='left',on=['matchId','groupId'])\n",
        "df_full = df_full.merge(df_groups_size,how='left',on=['matchId','groupId'])\n",
        "cleanup(df_groups)\n",
        "\n",
        "df_match_mean = df_groups_mean.groupby(['matchId']).mean().fillna(0).add_suffix('_match_mean').reset_index()\n",
        "df_match_std = df_groups_mean.groupby(['matchId']).std().fillna(0).add_suffix('_match_std').reset_index()\n",
        "\n",
        "df_full = df_full.merge(df_match_mean,how='left',on=['matchId'])\n",
        "df_full = df_full.merge(df_match_std,how='left',on=['matchId'])\n",
        "cleanup(df_match_mean)\n",
        "cleanup(df_match_std)\n",
        "\n",
        "print(df_full.head())\n",
        "print(list(df_full.columns))"
      ],
      "execution_count": 35,
      "outputs": [
        {
          "output_type": "stream",
          "text": [
            "          matchId         groupId  group_size\n",
            "0  0000a43bce5eec  18b16ec699d8b6           2\n",
            "1  0000a43bce5eec  236ab9e9c081b9           6\n",
            "2  0000a43bce5eec  3a6addfa0df938           2\n",
            "3  0000a43bce5eec  4bf06994bd4c9a           2\n",
            "4  0000a43bce5eec  4d1bbbc19b9084           2\n",
            "          matchId         groupId  maxPlace  numGroups  winPlacePerc  \\\n",
            "0  a10357fd1a4a91  4d4b580de459be        28         26        0.4444   \n",
            "1  aeb375fc57110c  684d5656442f9e        26         25        0.6400   \n",
            "2  110163d8bb94ae  6a4a42c3245a74        50         47        0.7755   \n",
            "3  f1f1f4ef412d7e  a930a9c79cd721        31         30        0.1667   \n",
            "4  6dc8ff871e21e6  de04010b3458dd        97         95        0.1875   \n",
            "\n",
            "   assists_mean  boosts_mean  damageDealt_mean  DBNOs_mean  \\\n",
            "0           0.0          0.0        102.187500         0.5   \n",
            "1           0.5          1.5        142.817505         0.5   \n",
            "2           0.5          1.5        107.300003         0.5   \n",
            "3           0.0          0.0         32.900002         0.0   \n",
            "4           0.0          0.0        100.000000         0.0   \n",
            "\n",
            "   headshotKills_mean                 ...                   \\\n",
            "0                0.25                 ...                    \n",
            "1                0.00                 ...                    \n",
            "2                0.00                 ...                    \n",
            "3                0.00                 ...                    \n",
            "4                0.00                 ...                    \n",
            "\n",
            "   rankPoints_mean_match_perc_match_std  revives_mean_match_perc_match_std  \\\n",
            "0                              0.000000                           0.255646   \n",
            "1                              0.294392                           0.243447   \n",
            "2                              0.291646                           0.168878   \n",
            "3                              0.293414                           0.270093   \n",
            "4                              0.290164                           0.000000   \n",
            "\n",
            "   rideDistance_mean_match_perc_match_std  \\\n",
            "0                                0.202426   \n",
            "1                                0.273008   \n",
            "2                                0.191026   \n",
            "3                                0.217571   \n",
            "4                                0.161237   \n",
            "\n",
            "   roadKills_mean_match_perc_match_std  \\\n",
            "0                                  0.0   \n",
            "1                                  0.0   \n",
            "2                                  0.0   \n",
            "3                                  0.0   \n",
            "4                                  0.0   \n",
            "\n",
            "   swimDistance_mean_match_perc_match_std  \\\n",
            "0                                0.098058   \n",
            "1                                0.138564   \n",
            "2                                0.102039   \n",
            "3                                0.126930   \n",
            "4                                0.139765   \n",
            "\n",
            "   teamKills_mean_match_perc_match_std  \\\n",
            "0                             0.184776   \n",
            "1                             0.100000   \n",
            "2                             0.000000   \n",
            "3                             0.152815   \n",
            "4                             0.072161   \n",
            "\n",
            "   vehicleDestroys_mean_match_perc_match_std  \\\n",
            "0                                        0.0   \n",
            "1                                        0.1   \n",
            "2                                        0.0   \n",
            "3                                        0.0   \n",
            "4                                        0.0   \n",
            "\n",
            "   walkDistance_mean_match_perc_match_std  \\\n",
            "0                                0.294174   \n",
            "1                                0.294392   \n",
            "2                                0.291730   \n",
            "3                                0.293447   \n",
            "4                                0.290189   \n",
            "\n",
            "   weaponsAcquired_mean_match_perc_match_std  \\\n",
            "0                                   0.293772   \n",
            "1                                   0.293825   \n",
            "2                                   0.290505   \n",
            "3                                   0.292663   \n",
            "4                                   0.286260   \n",
            "\n",
            "   winPoints_mean_match_perc_match_std  \n",
            "0                             0.294174  \n",
            "1                             0.000000  \n",
            "2                             0.000000  \n",
            "3                             0.000000  \n",
            "4                             0.000000  \n",
            "\n",
            "[5 rows x 156 columns]\n",
            "['matchId', 'groupId', 'maxPlace', 'numGroups', 'winPlacePerc', 'assists_mean', 'boosts_mean', 'damageDealt_mean', 'DBNOs_mean', 'headshotKills_mean', 'heals_mean', 'killPlace_mean', 'killPoints_mean', 'kills_mean', 'killStreaks_mean', 'matchDuration_mean', 'rankPoints_mean', 'revives_mean', 'rideDistance_mean', 'roadKills_mean', 'swimDistance_mean', 'teamKills_mean', 'vehicleDestroys_mean', 'walkDistance_mean', 'weaponsAcquired_mean', 'winPoints_mean', 'DBNOs_mean_match_perc', 'assists_mean_match_perc', 'boosts_mean_match_perc', 'damageDealt_mean_match_perc', 'groupId_match_perc', 'headshotKills_mean_match_perc', 'heals_mean_match_perc', 'killPlace_mean_match_perc', 'killPoints_mean_match_perc', 'killStreaks_mean_match_perc', 'kills_mean_match_perc', 'matchDuration_mean_match_perc', 'rankPoints_mean_match_perc', 'revives_mean_match_perc', 'rideDistance_mean_match_perc', 'roadKills_mean_match_perc', 'swimDistance_mean_match_perc', 'teamKills_mean_match_perc', 'vehicleDestroys_mean_match_perc', 'walkDistance_mean_match_perc', 'weaponsAcquired_mean_match_perc', 'winPoints_mean_match_perc', 'assists_std', 'boosts_std', 'damageDealt_std', 'DBNOs_std', 'headshotKills_std', 'heals_std', 'killPlace_std', 'killPoints_std', 'kills_std', 'killStreaks_std', 'matchDuration_std', 'rankPoints_std', 'revives_std', 'rideDistance_std', 'roadKills_std', 'swimDistance_std', 'teamKills_std', 'vehicleDestroys_std', 'walkDistance_std', 'weaponsAcquired_std', 'winPoints_std', 'group_size', 'assists_mean_match_mean', 'boosts_mean_match_mean', 'damageDealt_mean_match_mean', 'DBNOs_mean_match_mean', 'headshotKills_mean_match_mean', 'heals_mean_match_mean', 'killPlace_mean_match_mean', 'killPoints_mean_match_mean', 'kills_mean_match_mean', 'killStreaks_mean_match_mean', 'matchDuration_mean_match_mean', 'rankPoints_mean_match_mean', 'revives_mean_match_mean', 'rideDistance_mean_match_mean', 'roadKills_mean_match_mean', 'swimDistance_mean_match_mean', 'teamKills_mean_match_mean', 'vehicleDestroys_mean_match_mean', 'walkDistance_mean_match_mean', 'weaponsAcquired_mean_match_mean', 'winPoints_mean_match_mean', 'DBNOs_mean_match_perc_match_mean', 'assists_mean_match_perc_match_mean', 'boosts_mean_match_perc_match_mean', 'damageDealt_mean_match_perc_match_mean', 'groupId_match_perc_match_mean', 'headshotKills_mean_match_perc_match_mean', 'heals_mean_match_perc_match_mean', 'killPlace_mean_match_perc_match_mean', 'killPoints_mean_match_perc_match_mean', 'killStreaks_mean_match_perc_match_mean', 'kills_mean_match_perc_match_mean', 'matchDuration_mean_match_perc_match_mean', 'rankPoints_mean_match_perc_match_mean', 'revives_mean_match_perc_match_mean', 'rideDistance_mean_match_perc_match_mean', 'roadKills_mean_match_perc_match_mean', 'swimDistance_mean_match_perc_match_mean', 'teamKills_mean_match_perc_match_mean', 'vehicleDestroys_mean_match_perc_match_mean', 'walkDistance_mean_match_perc_match_mean', 'weaponsAcquired_mean_match_perc_match_mean', 'winPoints_mean_match_perc_match_mean', 'assists_mean_match_std', 'boosts_mean_match_std', 'damageDealt_mean_match_std', 'DBNOs_mean_match_std', 'headshotKills_mean_match_std', 'heals_mean_match_std', 'killPlace_mean_match_std', 'killPoints_mean_match_std', 'kills_mean_match_std', 'killStreaks_mean_match_std', 'matchDuration_mean_match_std', 'rankPoints_mean_match_std', 'revives_mean_match_std', 'rideDistance_mean_match_std', 'roadKills_mean_match_std', 'swimDistance_mean_match_std', 'teamKills_mean_match_std', 'vehicleDestroys_mean_match_std', 'walkDistance_mean_match_std', 'weaponsAcquired_mean_match_std', 'winPoints_mean_match_std', 'DBNOs_mean_match_perc_match_std', 'assists_mean_match_perc_match_std', 'boosts_mean_match_perc_match_std', 'damageDealt_mean_match_perc_match_std', 'groupId_match_perc_match_std', 'headshotKills_mean_match_perc_match_std', 'heals_mean_match_perc_match_std', 'killPlace_mean_match_perc_match_std', 'killPoints_mean_match_perc_match_std', 'killStreaks_mean_match_perc_match_std', 'kills_mean_match_perc_match_std', 'matchDuration_mean_match_perc_match_std', 'rankPoints_mean_match_perc_match_std', 'revives_mean_match_perc_match_std', 'rideDistance_mean_match_perc_match_std', 'roadKills_mean_match_perc_match_std', 'swimDistance_mean_match_perc_match_std', 'teamKills_mean_match_perc_match_std', 'vehicleDestroys_mean_match_perc_match_std', 'walkDistance_mean_match_perc_match_std', 'weaponsAcquired_mean_match_perc_match_std', 'winPoints_mean_match_perc_match_std']\n"
          ],
          "name": "stdout"
        }
      ]
    },
    {
      "metadata": {
        "id": "UredVYAknXLr",
        "colab_type": "code",
        "colab": {
          "base_uri": "https://localhost:8080/",
          "height": 231
        },
        "outputId": "9f65700d-bcff-482e-f578-8d668c5fbc12"
      },
      "cell_type": "code",
      "source": [
        "feature_columns = list(df_full.columns)\n",
        "\n",
        "print(feature_columns)\n",
        "feature_columns.remove(target)\n",
        "print(feature_columns)\n",
        "\n",
        "train_data = df_full[feature_columns].values\n",
        "train_labels = df_full[target].values\n",
        "\n",
        "# Shuffling\n",
        "order = np.argsort(np.random.random(train_labels.shape))\n",
        "train_data = train_data[order]\n",
        "train_labels = train_labels[order]\n",
        "\n",
        "# Normalize Training Data\n",
        "mean = train_data.mean(axis=0)\n",
        "std = train_data.std(axis=0)\n",
        "train_data = (train_data - mean) / std\n",
        "train_data = np.nan_to_num(train_data)"
      ],
      "execution_count": 1,
      "outputs": [
        {
          "output_type": "error",
          "ename": "NameError",
          "evalue": "ignored",
          "traceback": [
            "\u001b[0;31m---------------------------------------------------------------------------\u001b[0m",
            "\u001b[0;31mNameError\u001b[0m                                 Traceback (most recent call last)",
            "\u001b[0;32m<ipython-input-1-90248f900291>\u001b[0m in \u001b[0;36m<module>\u001b[0;34m()\u001b[0m\n\u001b[0;32m----> 1\u001b[0;31m \u001b[0mfeature_columns\u001b[0m \u001b[0;34m=\u001b[0m \u001b[0mlist\u001b[0m\u001b[0;34m(\u001b[0m\u001b[0mdf_full\u001b[0m\u001b[0;34m.\u001b[0m\u001b[0mcolumns\u001b[0m\u001b[0;34m)\u001b[0m\u001b[0;34m\u001b[0m\u001b[0m\n\u001b[0m\u001b[1;32m      2\u001b[0m \u001b[0;34m\u001b[0m\u001b[0m\n\u001b[1;32m      3\u001b[0m \u001b[0mprint\u001b[0m\u001b[0;34m(\u001b[0m\u001b[0mfeature_columns\u001b[0m\u001b[0;34m)\u001b[0m\u001b[0;34m\u001b[0m\u001b[0m\n\u001b[1;32m      4\u001b[0m \u001b[0mfeature_columns\u001b[0m\u001b[0;34m.\u001b[0m\u001b[0mremove\u001b[0m\u001b[0;34m(\u001b[0m\u001b[0mtarget\u001b[0m\u001b[0;34m)\u001b[0m\u001b[0;34m\u001b[0m\u001b[0m\n\u001b[1;32m      5\u001b[0m \u001b[0mprint\u001b[0m\u001b[0;34m(\u001b[0m\u001b[0mfeature_columns\u001b[0m\u001b[0;34m)\u001b[0m\u001b[0;34m\u001b[0m\u001b[0m\n",
            "\u001b[0;31mNameError\u001b[0m: name 'df_full' is not defined"
          ]
        }
      ]
    },
    {
      "metadata": {
        "id": "YobDejo_g_gJ",
        "colab_type": "code",
        "colab": {}
      },
      "cell_type": "code",
      "source": [
        ""
      ],
      "execution_count": 0,
      "outputs": []
    }
  ]
}