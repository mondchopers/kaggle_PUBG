{
  "nbformat": 4,
  "nbformat_minor": 0,
  "metadata": {
    "colab": {
      "name": "Exploration.ipynb",
      "version": "0.3.2",
      "provenance": [],
      "include_colab_link": true
    },
    "kernelspec": {
      "name": "python3",
      "display_name": "Python 3"
    }
  },
  "cells": [
    {
      "cell_type": "markdown",
      "metadata": {
        "id": "view-in-github",
        "colab_type": "text"
      },
      "source": [
        "[View in Colaboratory](https://colab.research.google.com/github/mondchopers/kaggle_PUBG/blob/master/Exploration.ipynb)"
      ]
    },
    {
      "metadata": {
        "id": "NeFCxw8AS_yF",
        "colab_type": "code",
        "colab": {
          "base_uri": "https://localhost:8080/",
          "height": 221
        },
        "outputId": "bf975b11-de33-4050-9da1-423b6a8f6819"
      },
      "cell_type": "code",
      "source": [
        "# Install kaggle API, go to my Google Drive and get API key so that I can\n",
        "# access dataset\n",
        "# https://medium.com/@move37timm/d18645f93648\n",
        "\n",
        "!pip install kaggle\n",
        "from googleapiclient.discovery import build\n",
        "import io, os\n",
        "from googleapiclient.http import MediaIoBaseDownload\n",
        "from google.colab import auth\n",
        "auth.authenticate_user()\n",
        "drive_service = build('drive', 'v3')\n",
        "results = drive_service.files().list(\n",
        "        q=\"name = 'kaggle.json'\", fields=\"files(id)\").execute()\n",
        "kaggle_api_key = results.get('files', [])\n",
        "filename = \"/content/.kaggle/kaggle.json\"\n",
        "os.makedirs(os.path.dirname(filename), exist_ok=True)\n",
        "request = drive_service.files().get_media(fileId=kaggle_api_key[0]['id'])\n",
        "fh = io.FileIO(filename, 'wb')\n",
        "downloader = MediaIoBaseDownload(fh, request)\n",
        "done = False\n",
        "while done is False:\n",
        "    status, done = downloader.next_chunk()\n",
        "    print(\"Download %d%%.\" % int(status.progress() * 100))\n",
        "os.chmod(filename, 600)\n",
        "\n",
        "# Optional piece of code: sometime just need to put the key in the right place\n",
        "!mkdir ~/.kaggle\n",
        "!cp /content/.kaggle/kaggle.json ~/.kaggle/kaggle.json"
      ],
      "execution_count": 3,
      "outputs": [
        {
          "output_type": "stream",
          "text": [
            "Requirement already satisfied: kaggle in /usr/local/lib/python3.6/dist-packages (1.4.7.1)\n",
            "Requirement already satisfied: six>=1.10 in /usr/local/lib/python3.6/dist-packages (from kaggle) (1.11.0)\n",
            "Requirement already satisfied: python-dateutil in /usr/local/lib/python3.6/dist-packages (from kaggle) (2.5.3)\n",
            "Requirement already satisfied: tqdm in /usr/local/lib/python3.6/dist-packages (from kaggle) (4.26.0)\n",
            "Requirement already satisfied: certifi in /usr/local/lib/python3.6/dist-packages (from kaggle) (2018.8.24)\n",
            "Requirement already satisfied: python-slugify in /usr/local/lib/python3.6/dist-packages (from kaggle) (1.2.6)\n",
            "Requirement already satisfied: urllib3<1.23.0,>=1.15 in /usr/local/lib/python3.6/dist-packages (from kaggle) (1.22)\n",
            "Requirement already satisfied: requests in /usr/local/lib/python3.6/dist-packages (from kaggle) (2.18.4)\n",
            "Requirement already satisfied: Unidecode>=0.04.16 in /usr/local/lib/python3.6/dist-packages (from python-slugify->kaggle) (1.0.22)\n",
            "Requirement already satisfied: chardet<3.1.0,>=3.0.2 in /usr/local/lib/python3.6/dist-packages (from requests->kaggle) (3.0.4)\n",
            "Requirement already satisfied: idna<2.7,>=2.5 in /usr/local/lib/python3.6/dist-packages (from requests->kaggle) (2.6)\n",
            "Download 100%.\n"
          ],
          "name": "stdout"
        }
      ]
    },
    {
      "metadata": {
        "id": "Xl1bLSYxTH4N",
        "colab_type": "code",
        "colab": {
          "base_uri": "https://localhost:8080/",
          "height": 34
        },
        "outputId": "f1d899ad-aefd-42a8-e535-4030fa01f58c"
      },
      "cell_type": "code",
      "source": [
        "# List current active competitions\n",
        "!kaggle competitions list\n",
        "\n",
        "# Download PUBG data\n",
        "!kaggle competitions download -c pubg-finish-placement-prediction -p /content/kaggle\n",
        "\n",
        "# List down all files from PUBG competition\n",
        "import os\n",
        "os.chdir('/content/kaggle')\n",
        "!ls\n",
        "\n",
        "# Unzip all files\n",
        "for file in os.listdir():\n",
        "  !unzip {file}\n",
        "!ls"
      ],
      "execution_count": 21,
      "outputs": [
        {
          "output_type": "stream",
          "text": [
            "sample_submission.csv.zip  test.csv.zip  train.csv.zip\n"
          ],
          "name": "stdout"
        }
      ]
    },
    {
      "metadata": {
        "id": "8x56XODiXjeP",
        "colab_type": "code",
        "colab": {
          "base_uri": "https://localhost:8080/",
          "height": 493
        },
        "outputId": "1a12d498-bafb-4d39-91c6-4e53b9956b6f"
      },
      "cell_type": "code",
      "source": [
        "# Read training data, print out some information from there\n",
        "import pandas as pd\n",
        "\n",
        "# trainDf = pd.read_csv('train.csv')\n",
        "# print(trainDf.head())\n",
        "print(len(trainDf))\n",
        "print(trainDf.dtypes)"
      ],
      "execution_count": 27,
      "outputs": [
        {
          "output_type": "stream",
          "text": [
            "4357336\n",
            "Id                   int64\n",
            "groupId              int64\n",
            "matchId              int64\n",
            "assists              int64\n",
            "boosts               int64\n",
            "damageDealt        float64\n",
            "DBNOs                int64\n",
            "headshotKills        int64\n",
            "heals                int64\n",
            "killPlace            int64\n",
            "killPoints           int64\n",
            "kills                int64\n",
            "killStreaks          int64\n",
            "longestKill        float64\n",
            "maxPlace             int64\n",
            "numGroups            int64\n",
            "revives              int64\n",
            "rideDistance       float64\n",
            "roadKills            int64\n",
            "swimDistance       float64\n",
            "teamKills            int64\n",
            "vehicleDestroys      int64\n",
            "walkDistance       float64\n",
            "weaponsAcquired      int64\n",
            "winPoints            int64\n",
            "winPlacePerc       float64\n",
            "dtype: object\n"
          ],
          "name": "stdout"
        }
      ]
    },
    {
      "metadata": {
        "id": "ulIIPn2RXwbH",
        "colab_type": "code",
        "colab": {}
      },
      "cell_type": "code",
      "source": [
        ""
      ],
      "execution_count": 0,
      "outputs": []
    }
  ]
}