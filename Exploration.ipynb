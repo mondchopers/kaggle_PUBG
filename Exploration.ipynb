{
  "nbformat": 4,
  "nbformat_minor": 0,
  "metadata": {
    "colab": {
      "name": "Exploration.ipynb",
      "version": "0.3.2",
      "provenance": [],
      "include_colab_link": true
    },
    "kernelspec": {
      "name": "python3",
      "display_name": "Python 3"
    }
  },
  "cells": [
    {
      "cell_type": "markdown",
      "metadata": {
        "id": "view-in-github",
        "colab_type": "text"
      },
      "source": [
        "[View in Colaboratory](https://colab.research.google.com/github/mondchopers/kaggle_PUBG/blob/master/Exploration.ipynb)"
      ]
    },
    {
      "metadata": {
        "id": "JmV024t5q4b3",
        "colab_type": "text"
      },
      "cell_type": "markdown",
      "source": [
        "# PUBG Competition Data Exploration"
      ]
    },
    {
      "metadata": {
        "id": "QKAugjTqrKfw",
        "colab_type": "text"
      },
      "cell_type": "markdown",
      "source": [
        "## Loading Kaggle API and Download data to Colab Storage"
      ]
    },
    {
      "metadata": {
        "id": "NeFCxw8AS_yF",
        "colab_type": "code",
        "colab": {}
      },
      "cell_type": "code",
      "source": [
        "# Install kaggle API, go to my Google Drive and get API key so that I can\n",
        "# access dataset\n",
        "# https://medium.com/@move37timm/d18645f93648\n",
        "\n",
        "!pip install kaggle\n",
        "from googleapiclient.discovery import build\n",
        "import io, os\n",
        "from googleapiclient.http import MediaIoBaseDownload\n",
        "from google.colab import auth\n",
        "auth.authenticate_user()\n",
        "drive_service = build('drive', 'v3')\n",
        "results = drive_service.files().list(\n",
        "        q=\"name = 'kaggle.json'\", fields=\"files(id)\").execute()\n",
        "kaggle_api_key = results.get('files', [])\n",
        "filename = \"/content/.kaggle/kaggle.json\"\n",
        "os.makedirs(os.path.dirname(filename), exist_ok=True)\n",
        "request = drive_service.files().get_media(fileId=kaggle_api_key[0]['id'])\n",
        "fh = io.FileIO(filename, 'wb')\n",
        "downloader = MediaIoBaseDownload(fh, request)\n",
        "done = False\n",
        "while done is False:\n",
        "    status, done = downloader.next_chunk()\n",
        "    print(\"Download %d%%.\" % int(status.progress() * 100))\n",
        "os.chmod(filename, 600)\n",
        "\n",
        "# Optional piece of code: sometime just need to put the key in the right place\n",
        "!mkdir ~/.kaggle\n",
        "!cp /content/.kaggle/kaggle.json ~/.kaggle/kaggle.json"
      ],
      "execution_count": 0,
      "outputs": []
    },
    {
      "metadata": {
        "id": "Xl1bLSYxTH4N",
        "colab_type": "code",
        "colab": {}
      },
      "cell_type": "code",
      "source": [
        "# List current active competitions\n",
        "!kaggle competitions list\n",
        "\n",
        "# Download PUBG data\n",
        "!kaggle competitions download -c pubg-finish-placement-prediction -p /content/kaggle\n",
        "\n",
        "# List down all files from PUBG competition\n",
        "import os\n",
        "os.chdir('/content/kaggle')\n",
        "!ls\n",
        "\n",
        "# Unzip all files\n",
        "for file in os.listdir():\n",
        "  !unzip {file}\n",
        "!ls"
      ],
      "execution_count": 0,
      "outputs": []
    },
    {
      "metadata": {
        "id": "RZDKUk1zuveJ",
        "colab_type": "code",
        "colab": {}
      },
      "cell_type": "code",
      "source": [
        "import pandas as pd\n",
        "import numpy as np\n",
        "import xgboost as xgb"
      ],
      "execution_count": 0,
      "outputs": []
    },
    {
      "metadata": {
        "id": "Tr8k-l8w6T4c",
        "colab_type": "text"
      },
      "cell_type": "markdown",
      "source": [
        "## Helper Functions"
      ]
    },
    {
      "metadata": {
        "id": "y3RlB_kU6Q_j",
        "colab_type": "code",
        "colab": {}
      },
      "cell_type": "code",
      "source": [
        ""
      ],
      "execution_count": 0,
      "outputs": []
    },
    {
      "metadata": {
        "id": "p4H-EkbysSW5",
        "colab_type": "text"
      },
      "cell_type": "markdown",
      "source": [
        "## Exploration"
      ]
    },
    {
      "metadata": {
        "id": "8x56XODiXjeP",
        "colab_type": "code",
        "colab": {}
      },
      "cell_type": "code",
      "source": [
        "# Read training data, print out some information from there\n",
        "trainDf = pd.read_csv('train.csv')\n",
        "print(trainDf.head(3))\n",
        "print(len(trainDf))\n",
        "print(trainDf.dtypes)"
      ],
      "execution_count": 0,
      "outputs": []
    },
    {
      "metadata": {
        "id": "ulIIPn2RXwbH",
        "colab_type": "code",
        "colab": {}
      },
      "cell_type": "code",
      "source": [
        "# Going through groups and see how many players are inside each group\n",
        "for i in np.unique(trainDf['groupId'].values):\n",
        "  print(i, len(trainDf[trainDf['groupId'] == i]))\n",
        "  if i > 10:\n",
        "    break\n",
        "   \n",
        "print(trainDf[trainDf['groupId'] == 11])"
      ],
      "execution_count": 0,
      "outputs": []
    },
    {
      "metadata": {
        "id": "gtFkpsaF8ZlT",
        "colab_type": "text"
      },
      "cell_type": "markdown",
      "source": [
        "## Using XGB for Regression"
      ]
    },
    {
      "metadata": {
        "id": "zgv5D0lm4gEZ",
        "colab_type": "code",
        "colab": {}
      },
      "cell_type": "code",
      "source": [
        "# Explicitly choose columns for X and Y axis\n",
        "XCol = list(trainDf.columns)\n",
        "XCol.remove('Id')\n",
        "XCol.remove('groupId')\n",
        "XCol.remove('matchId')\n",
        "# Split into train and validation\n",
        "trainLen = int(0.75 * len(trainDf))\n",
        "seed = np.random.permutation(len(trainDf))\n",
        "\n",
        "trainX = trainDf[XCol].iloc[seed[trainLen:]].reset_index(drop=True)\n",
        "trainY = trainDf['winPlacePerc'].iloc[seed[trainLen:]].reset_index(drop=True)\n",
        "validX = trainDf[XCol].iloc[seed[:trainLen]].reset_index(drop=True)\n",
        "validY = trainDf['winPlacePerc'].iloc[seed[:trainLen]].reset_index(drop=True)"
      ],
      "execution_count": 0,
      "outputs": []
    },
    {
      "metadata": {
        "id": "l1ajsDTTFxar",
        "colab_type": "code",
        "colab": {}
      },
      "cell_type": "code",
      "source": [
        "model = xgb.XGBRegressor(n_estimators=50, learning_rate=0.01, subsample=0.75,\n",
        "                           colsample_bytree=1, max_depth=4)\n",
        "model.fit(trainX, trainY)\n",
        "print(model.score(validX, validY))"
      ],
      "execution_count": 0,
      "outputs": []
    },
    {
      "metadata": {
        "id": "GgWgSL5sJxUu",
        "colab_type": "code",
        "colab": {}
      },
      "cell_type": "code",
      "source": [
        "import matplotlib.pyplot as plt\n",
        "%matplotlib inline\n",
        "\n",
        "validZ = model.predict(validX)\n",
        "print(validZ[0], validY.values[0])\n",
        "plt.scatter(validY.values, validZ-validY.values)"
      ],
      "execution_count": 0,
      "outputs": []
    },
    {
      "metadata": {
        "id": "N2_DlSJmMPtu",
        "colab_type": "code",
        "colab": {}
      },
      "cell_type": "code",
      "source": [
        ""
      ],
      "execution_count": 0,
      "outputs": []
    }
  ]
}